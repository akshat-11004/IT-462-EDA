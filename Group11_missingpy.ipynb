{
  "cells": [
    {
      "cell_type": "markdown",
      "metadata": {
        "id": "3EPmtmH8fQXK"
      },
      "source": [
        "# ASSIGNMENT 2\n",
        "\n",
        "# Group No: 11\n",
        "\n",
        "**1. AKSHAT KADIA(202203029)**\n",
        "\n",
        "**2. GUNJAN SETHI(202312112)**\n",
        "\n",
        "**3. JAYDEEP DARJI(202411029)**\n",
        "\n",
        "**github_link** = \" https://github.com/akshat-11004/IT-462-EDA-Group11 \""
      ]
    },
    {
      "cell_type": "markdown",
      "metadata": {
        "id": "gL9HyXq0MY53"
      },
      "source": [
        "# Data Loading and Exploring"
      ]
    },
    {
      "cell_type": "code",
      "execution_count": 1,
      "metadata": {
        "colab": {
          "base_uri": "https://localhost:8080/"
        },
        "id": "amCK7I_tgOpJ",
        "outputId": "75ceb0b3-f65f-40ce-cae4-c28b2c57edca"
      },
      "outputs": [
        {
          "name": "stderr",
          "output_type": "stream",
          "text": [
            "C:\\Users\\ASUS\\AppData\\Local\\Temp\\ipykernel_18340\\1005004001.py:2: DeprecationWarning: \n",
            "Pyarrow will become a required dependency of pandas in the next major release of pandas (pandas 3.0),\n",
            "(to allow more performant data types, such as the Arrow string type, and better interoperability with other libraries)\n",
            "but was not found to be installed on your system.\n",
            "If this would cause problems for you,\n",
            "please provide us feedback at https://github.com/pandas-dev/pandas/issues/54466\n",
            "        \n",
            "  import pandas as pd\n"
          ]
        },
        {
          "data": {
            "text/html": [
              "<div>\n",
              "<style scoped>\n",
              "    .dataframe tbody tr th:only-of-type {\n",
              "        vertical-align: middle;\n",
              "    }\n",
              "\n",
              "    .dataframe tbody tr th {\n",
              "        vertical-align: top;\n",
              "    }\n",
              "\n",
              "    .dataframe thead th {\n",
              "        text-align: right;\n",
              "    }\n",
              "</style>\n",
              "<table border=\"1\" class=\"dataframe\">\n",
              "  <thead>\n",
              "    <tr style=\"text-align: right;\">\n",
              "      <th></th>\n",
              "      <th>FL_DATE</th>\n",
              "      <th>AIRLINE</th>\n",
              "      <th>DEST_CITY</th>\n",
              "      <th>DEP_TIME</th>\n",
              "      <th>TAXI_OUT</th>\n",
              "      <th>TAXI_IN</th>\n",
              "      <th>ARR_TIME</th>\n",
              "      <th>ARR_DELAY</th>\n",
              "      <th>CANCELLATION_CODE</th>\n",
              "      <th>ELAPSED_TIME</th>\n",
              "      <th>AIR_TIME</th>\n",
              "      <th>DELAY_DUE_CARRIER</th>\n",
              "      <th>DELAY_DUE_WEATHER</th>\n",
              "      <th>DELAY_DUE_LATE_AIRCRAFT</th>\n",
              "    </tr>\n",
              "  </thead>\n",
              "  <tbody>\n",
              "    <tr>\n",
              "      <th>0</th>\n",
              "      <td>6/3/2023</td>\n",
              "      <td>Delta Air Lines Inc.</td>\n",
              "      <td>San Francisco, CA</td>\n",
              "      <td>1608.0</td>\n",
              "      <td>27.0</td>\n",
              "      <td>9.0</td>\n",
              "      <td>1853.0</td>\n",
              "      <td>24.0</td>\n",
              "      <td>NaN</td>\n",
              "      <td>285.0</td>\n",
              "      <td>249.0</td>\n",
              "      <td>0.0</td>\n",
              "      <td>8.0</td>\n",
              "      <td>215.0</td>\n",
              "    </tr>\n",
              "    <tr>\n",
              "      <th>1</th>\n",
              "      <td>23-02-2020</td>\n",
              "      <td>Spirit Air Lines</td>\n",
              "      <td>Dallas/Fort Worth, TX</td>\n",
              "      <td>1838.0</td>\n",
              "      <td>15.0</td>\n",
              "      <td>14.0</td>\n",
              "      <td>2040.0</td>\n",
              "      <td>-1.0</td>\n",
              "      <td>NaN</td>\n",
              "      <td>182.0</td>\n",
              "      <td>153.0</td>\n",
              "      <td>NaN</td>\n",
              "      <td>NaN</td>\n",
              "      <td>NaN</td>\n",
              "    </tr>\n",
              "    <tr>\n",
              "      <th>2</th>\n",
              "      <td>31-07-2019</td>\n",
              "      <td>Southwest Airlines Co.</td>\n",
              "      <td>Oklahoma City, OK</td>\n",
              "      <td>1237.0</td>\n",
              "      <td>15.0</td>\n",
              "      <td>3.0</td>\n",
              "      <td>1331.0</td>\n",
              "      <td>141.0</td>\n",
              "      <td>NaN</td>\n",
              "      <td>54.0</td>\n",
              "      <td>36.0</td>\n",
              "      <td>141.0</td>\n",
              "      <td>0.0</td>\n",
              "      <td>0.0</td>\n",
              "    </tr>\n",
              "    <tr>\n",
              "      <th>3</th>\n",
              "      <td>11/6/2023</td>\n",
              "      <td>American Airlines Inc.</td>\n",
              "      <td>Boston, MA</td>\n",
              "      <td>1001.0</td>\n",
              "      <td>23.0</td>\n",
              "      <td>8.0</td>\n",
              "      <td>1130.0</td>\n",
              "      <td>-29.0</td>\n",
              "      <td>NaN</td>\n",
              "      <td>89.0</td>\n",
              "      <td>58.0</td>\n",
              "      <td>NaN</td>\n",
              "      <td>NaN</td>\n",
              "      <td>NaN</td>\n",
              "    </tr>\n",
              "    <tr>\n",
              "      <th>4</th>\n",
              "      <td>8/7/2019</td>\n",
              "      <td>Republic Airline</td>\n",
              "      <td>Washington, DC</td>\n",
              "      <td>1637.0</td>\n",
              "      <td>22.0</td>\n",
              "      <td>41.0</td>\n",
              "      <td>2008.0</td>\n",
              "      <td>23.0</td>\n",
              "      <td>NaN</td>\n",
              "      <td>151.0</td>\n",
              "      <td>88.0</td>\n",
              "      <td>57.0</td>\n",
              "      <td>0.0</td>\n",
              "      <td>0.0</td>\n",
              "    </tr>\n",
              "  </tbody>\n",
              "</table>\n",
              "</div>"
            ],
            "text/plain": [
              "      FL_DATE                 AIRLINE              DEST_CITY  DEP_TIME  \\\n",
              "0    6/3/2023    Delta Air Lines Inc.      San Francisco, CA    1608.0   \n",
              "1  23-02-2020        Spirit Air Lines  Dallas/Fort Worth, TX    1838.0   \n",
              "2  31-07-2019  Southwest Airlines Co.      Oklahoma City, OK    1237.0   \n",
              "3   11/6/2023  American Airlines Inc.             Boston, MA    1001.0   \n",
              "4    8/7/2019        Republic Airline         Washington, DC    1637.0   \n",
              "\n",
              "   TAXI_OUT  TAXI_IN  ARR_TIME  ARR_DELAY CANCELLATION_CODE  ELAPSED_TIME  \\\n",
              "0      27.0      9.0    1853.0       24.0               NaN         285.0   \n",
              "1      15.0     14.0    2040.0       -1.0               NaN         182.0   \n",
              "2      15.0      3.0    1331.0      141.0               NaN          54.0   \n",
              "3      23.0      8.0    1130.0      -29.0               NaN          89.0   \n",
              "4      22.0     41.0    2008.0       23.0               NaN         151.0   \n",
              "\n",
              "   AIR_TIME  DELAY_DUE_CARRIER  DELAY_DUE_WEATHER  DELAY_DUE_LATE_AIRCRAFT  \n",
              "0     249.0                0.0                8.0                    215.0  \n",
              "1     153.0                NaN                NaN                      NaN  \n",
              "2      36.0              141.0                0.0                      0.0  \n",
              "3      58.0                NaN                NaN                      NaN  \n",
              "4      88.0               57.0                0.0                      0.0  "
            ]
          },
          "execution_count": 1,
          "metadata": {},
          "output_type": "execute_result"
        }
      ],
      "source": [
        "# Load the Dataset form google sheets\n",
        "import pandas as pd\n",
        "import missingno as msno\n",
        "df = pd.read_csv('https://docs.google.com/spreadsheets/d/1dSbI5PO0CTmFJl6rxYYsIRof5Fx9AZhqqBAcdEmAdQ4/export?format=csv')\n",
        "df.head()"
      ]
    },
    {
      "cell_type": "code",
      "execution_count": 2,
      "metadata": {
        "colab": {
          "base_uri": "https://localhost:8080/"
        },
        "id": "LTOii4NOiiGR",
        "outputId": "05259a1f-2839-4ab4-dc72-02f87013a984"
      },
      "outputs": [
        {
          "data": {
            "text/plain": [
              "(998, 14)"
            ]
          },
          "execution_count": 2,
          "metadata": {},
          "output_type": "execute_result"
        }
      ],
      "source": [
        "# Getting the shape of the DataFrame as a tuple (number of rows, number of columns)\n",
        "df.shape"
      ]
    },
    {
      "cell_type": "code",
      "execution_count": 3,
      "metadata": {
        "colab": {
          "base_uri": "https://localhost:8080/"
        },
        "id": "j9skq0ogiWL-",
        "outputId": "da72c881-e570-4c83-9819-b9f6f4a8d221"
      },
      "outputs": [
        {
          "name": "stdout",
          "output_type": "stream",
          "text": [
            "<class 'pandas.core.frame.DataFrame'>\n",
            "RangeIndex: 998 entries, 0 to 997\n",
            "Data columns (total 14 columns):\n",
            " #   Column                   Non-Null Count  Dtype  \n",
            "---  ------                   --------------  -----  \n",
            " 0   FL_DATE                  998 non-null    object \n",
            " 1   AIRLINE                  998 non-null    object \n",
            " 2   DEST_CITY                998 non-null    object \n",
            " 3   DEP_TIME                 970 non-null    float64\n",
            " 4   TAXI_OUT                 970 non-null    float64\n",
            " 5   TAXI_IN                  970 non-null    float64\n",
            " 6   ARR_TIME                 970 non-null    float64\n",
            " 7   ARR_DELAY                970 non-null    float64\n",
            " 8   CANCELLATION_CODE        28 non-null     object \n",
            " 9   ELAPSED_TIME             970 non-null    float64\n",
            " 10  AIR_TIME                 970 non-null    float64\n",
            " 11  DELAY_DUE_CARRIER        184 non-null    float64\n",
            " 12  DELAY_DUE_WEATHER        184 non-null    float64\n",
            " 13  DELAY_DUE_LATE_AIRCRAFT  184 non-null    float64\n",
            "dtypes: float64(10), object(4)\n",
            "memory usage: 109.3+ KB\n"
          ]
        }
      ],
      "source": [
        "# Getting Basic Information of Dataset\n",
        "df.info()"
      ]
    },
    {
      "cell_type": "code",
      "execution_count": 4,
      "metadata": {
        "colab": {
          "base_uri": "https://localhost:8080/"
        },
        "id": "C_-pA3Rdk--u",
        "outputId": "4068aaad-4cec-42a5-f0eb-393f427c3c5e"
      },
      "outputs": [
        {
          "name": "stdout",
          "output_type": "stream",
          "text": [
            "FL_DATE                     object\n",
            "AIRLINE                     object\n",
            "DEST_CITY                   object\n",
            "DEP_TIME                   float64\n",
            "TAXI_OUT                   float64\n",
            "TAXI_IN                    float64\n",
            "ARR_TIME                   float64\n",
            "ARR_DELAY                  float64\n",
            "CANCELLATION_CODE           object\n",
            "ELAPSED_TIME               float64\n",
            "AIR_TIME                   float64\n",
            "DELAY_DUE_CARRIER          float64\n",
            "DELAY_DUE_WEATHER          float64\n",
            "DELAY_DUE_LATE_AIRCRAFT    float64\n",
            "dtype: object\n"
          ]
        }
      ],
      "source": [
        "# Check the data types of each column\n",
        "print(df.dtypes)"
      ]
    },
    {
      "cell_type": "markdown",
      "metadata": {
        "id": "tN2wxaL_lkB8"
      },
      "source": [
        "# Find Missing Values"
      ]
    },
    {
      "cell_type": "code",
      "execution_count": 5,
      "metadata": {
        "colab": {
          "base_uri": "https://localhost:8080/"
        },
        "id": "AX8y56pjlyu0",
        "outputId": "b30a81f1-ac6c-4b7c-9225-fbef987645a8"
      },
      "outputs": [
        {
          "data": {
            "text/plain": [
              "FL_DATE                      0\n",
              "AIRLINE                      0\n",
              "DEST_CITY                    0\n",
              "DEP_TIME                    28\n",
              "TAXI_OUT                    28\n",
              "TAXI_IN                     28\n",
              "ARR_TIME                    28\n",
              "ARR_DELAY                   28\n",
              "CANCELLATION_CODE          970\n",
              "ELAPSED_TIME                28\n",
              "AIR_TIME                    28\n",
              "DELAY_DUE_CARRIER          814\n",
              "DELAY_DUE_WEATHER          814\n",
              "DELAY_DUE_LATE_AIRCRAFT    814\n",
              "dtype: int64"
            ]
          },
          "execution_count": 5,
          "metadata": {},
          "output_type": "execute_result"
        }
      ],
      "source": [
        "missing_details = df.isnull().sum()\n",
        "missing_details"
      ]
    },
    {
      "cell_type": "markdown",
      "metadata": {
        "id": "HhpeiLI1mM23"
      },
      "source": [
        "# Using missingno for Visulizing the missing data"
      ]
    },
    {
      "cell_type": "code",
      "execution_count": 6,
      "metadata": {
        "colab": {
          "base_uri": "https://localhost:8080/"
        },
        "id": "GWzmz_kDoSNN",
        "outputId": "c8b02b03-5db5-406d-f6da-9ffcc24e2b5f"
      },
      "outputs": [
        {
          "data": {
            "text/plain": [
              "<Axes: >"
            ]
          },
          "execution_count": 6,
          "metadata": {},
          "output_type": "execute_result"
        },
        {
          "data": {
            "image/png": "[encoded data removed]",
            "text/plain": [
              "<Figure size 2500x1000 with 2 Axes>"
            ]
          },
          "metadata": {},
          "output_type": "display_data"
        }
      ],
      "source": [
        "msno.matrix(df)"
      ]
    },
    {
      "cell_type": "markdown",
      "metadata": {
        "id": "QUUo1cgVXcDA"
      },
      "source": [
        "*   From here also we can see that all the columns are related to each other, So result of MCAR test must be negative.\n",
        "\n"
      ]
    },
    {
      "cell_type": "markdown",
      "metadata": {
        "id": "zKXrGSf6RaAR"
      },
      "source": [
        "#Data Transformation"
      ]
    },
    {
      "cell_type": "code",
      "execution_count": 7,
      "metadata": {
        "colab": {
          "base_uri": "https://localhost:8080/"
        },
        "id": "an2JR1h_RZka",
        "outputId": "4eadd9c2-3813-4809-8571-d7275fefaebf"
      },
      "outputs": [
        {
          "data": {
            "text/html": [
              "<div>\n",
              "<style scoped>\n",
              "    .dataframe tbody tr th:only-of-type {\n",
              "        vertical-align: middle;\n",
              "    }\n",
              "\n",
              "    .dataframe tbody tr th {\n",
              "        vertical-align: top;\n",
              "    }\n",
              "\n",
              "    .dataframe thead th {\n",
              "        text-align: right;\n",
              "    }\n",
              "</style>\n",
              "<table border=\"1\" class=\"dataframe\">\n",
              "  <thead>\n",
              "    <tr style=\"text-align: right;\">\n",
              "      <th></th>\n",
              "      <th>FL_DATE</th>\n",
              "      <th>AIRLINE</th>\n",
              "      <th>DEST_CITY</th>\n",
              "      <th>DEP_TIME</th>\n",
              "      <th>TAXI_OUT</th>\n",
              "      <th>TAXI_IN</th>\n",
              "      <th>ARR_TIME</th>\n",
              "      <th>ARR_DELAY</th>\n",
              "      <th>CANCELLATION_CODE</th>\n",
              "      <th>ELAPSED_TIME</th>\n",
              "      <th>AIR_TIME</th>\n",
              "      <th>DELAY_DUE_CARRIER</th>\n",
              "      <th>DELAY_DUE_WEATHER</th>\n",
              "      <th>DELAY_DUE_LATE_AIRCRAFT</th>\n",
              "    </tr>\n",
              "  </thead>\n",
              "  <tbody>\n",
              "    <tr>\n",
              "      <th>0</th>\n",
              "      <td>671</td>\n",
              "      <td>3</td>\n",
              "      <td>126</td>\n",
              "      <td>1608.0</td>\n",
              "      <td>27.0</td>\n",
              "      <td>9.0</td>\n",
              "      <td>1853.0</td>\n",
              "      <td>24.0</td>\n",
              "      <td>4</td>\n",
              "      <td>285.0</td>\n",
              "      <td>249.0</td>\n",
              "      <td>0.0</td>\n",
              "      <td>8.0</td>\n",
              "      <td>215.0</td>\n",
              "    </tr>\n",
              "    <tr>\n",
              "      <th>1</th>\n",
              "      <td>381</td>\n",
              "      <td>16</td>\n",
              "      <td>36</td>\n",
              "      <td>1838.0</td>\n",
              "      <td>15.0</td>\n",
              "      <td>14.0</td>\n",
              "      <td>2040.0</td>\n",
              "      <td>-1.0</td>\n",
              "      <td>4</td>\n",
              "      <td>182.0</td>\n",
              "      <td>153.0</td>\n",
              "      <td>NaN</td>\n",
              "      <td>NaN</td>\n",
              "      <td>NaN</td>\n",
              "    </tr>\n",
              "    <tr>\n",
              "      <th>2</th>\n",
              "      <td>597</td>\n",
              "      <td>15</td>\n",
              "      <td>104</td>\n",
              "      <td>1237.0</td>\n",
              "      <td>15.0</td>\n",
              "      <td>3.0</td>\n",
              "      <td>1331.0</td>\n",
              "      <td>141.0</td>\n",
              "      <td>4</td>\n",
              "      <td>54.0</td>\n",
              "      <td>36.0</td>\n",
              "      <td>141.0</td>\n",
              "      <td>0.0</td>\n",
              "      <td>0.0</td>\n",
              "    </tr>\n",
              "    <tr>\n",
              "      <th>3</th>\n",
              "      <td>61</td>\n",
              "      <td>2</td>\n",
              "      <td>16</td>\n",
              "      <td>1001.0</td>\n",
              "      <td>23.0</td>\n",
              "      <td>8.0</td>\n",
              "      <td>1130.0</td>\n",
              "      <td>-29.0</td>\n",
              "      <td>4</td>\n",
              "      <td>89.0</td>\n",
              "      <td>58.0</td>\n",
              "      <td>NaN</td>\n",
              "      <td>NaN</td>\n",
              "      <td>NaN</td>\n",
              "    </tr>\n",
              "    <tr>\n",
              "      <th>4</th>\n",
              "      <td>722</td>\n",
              "      <td>13</td>\n",
              "      <td>149</td>\n",
              "      <td>1637.0</td>\n",
              "      <td>22.0</td>\n",
              "      <td>41.0</td>\n",
              "      <td>2008.0</td>\n",
              "      <td>23.0</td>\n",
              "      <td>4</td>\n",
              "      <td>151.0</td>\n",
              "      <td>88.0</td>\n",
              "      <td>57.0</td>\n",
              "      <td>0.0</td>\n",
              "      <td>0.0</td>\n",
              "    </tr>\n",
              "  </tbody>\n",
              "</table>\n",
              "</div>"
            ],
            "text/plain": [
              "   FL_DATE  AIRLINE  DEST_CITY  DEP_TIME  TAXI_OUT  TAXI_IN  ARR_TIME  \\\n",
              "0      671        3        126    1608.0      27.0      9.0    1853.0   \n",
              "1      381       16         36    1838.0      15.0     14.0    2040.0   \n",
              "2      597       15        104    1237.0      15.0      3.0    1331.0   \n",
              "3       61        2         16    1001.0      23.0      8.0    1130.0   \n",
              "4      722       13        149    1637.0      22.0     41.0    2008.0   \n",
              "\n",
              "   ARR_DELAY  CANCELLATION_CODE  ELAPSED_TIME  AIR_TIME  DELAY_DUE_CARRIER  \\\n",
              "0       24.0                  4         285.0     249.0                0.0   \n",
              "1       -1.0                  4         182.0     153.0                NaN   \n",
              "2      141.0                  4          54.0      36.0              141.0   \n",
              "3      -29.0                  4          89.0      58.0                NaN   \n",
              "4       23.0                  4         151.0      88.0               57.0   \n",
              "\n",
              "   DELAY_DUE_WEATHER  DELAY_DUE_LATE_AIRCRAFT  \n",
              "0                8.0                    215.0  \n",
              "1                NaN                      NaN  \n",
              "2                0.0                      0.0  \n",
              "3                NaN                      NaN  \n",
              "4                0.0                      0.0  "
            ]
          },
          "execution_count": 7,
          "metadata": {},
          "output_type": "execute_result"
        }
      ],
      "source": [
        "from sklearn.preprocessing import LabelEncoder\n",
        "label_encoders = {\n",
        "    column: LabelEncoder().fit(df[column])\n",
        "    for column in df.select_dtypes(include=['object']).columns\n",
        "}\n",
        "\n",
        "for column, encoder in label_encoders.items():\n",
        "    df[column] = encoder.transform(df[column])\n",
        "\n",
        "df.head()"
      ]
    },
    {
      "cell_type": "markdown",
      "metadata": {
        "id": "g4VtnQctXqdB"
      },
      "source": [
        "# MCAR test"
      ]
    },
    {
      "cell_type": "code",
      "execution_count": 8,
      "metadata": {
        "colab": {
          "base_uri": "https://localhost:8080/"
        },
        "id": "1O6NwQQJP3uF",
        "outputId": "8fa5b6a4-be04-4906-94a4-5f5b33071bcf"
      },
      "outputs": [
        {
          "name": "stdout",
          "output_type": "stream",
          "text": [
            "Requirement already satisfied: missingpy in c:\\users\\asus\\appdata\\local\\programs\\python\\python311\\lib\\site-packages (0.2.0)\n"
          ]
        }
      ],
      "source": [
        "!pip install missingpy"
      ]
    },
    {
      "cell_type": "code",
      "execution_count": 9,
      "metadata": {
        "colab": {
          "base_uri": "https://localhost:8080/"
        },
        "id": "SC20j7go1clR",
        "outputId": "88586574-ed20-488a-8812-afc366f96390"
      },
      "outputs": [
        {
          "name": "stdout",
          "output_type": "stream",
          "text": [
            "Collecting statsmodels\n",
            "  Downloading statsmodels-0.14.3-cp311-cp311-win_amd64.whl.metadata (9.5 kB)\n",
            "Requirement already satisfied: numpy<3,>=1.22.3 in c:\\users\\asus\\appdata\\local\\programs\\python\\python311\\lib\\site-packages (from statsmodels) (1.26.3)\n",
            "Requirement already satisfied: scipy!=1.9.2,>=1.8 in c:\\users\\asus\\appdata\\local\\programs\\python\\python311\\lib\\site-packages (from statsmodels) (1.11.4)\n",
            "Requirement already satisfied: pandas!=2.1.0,>=1.4 in c:\\users\\asus\\appdata\\local\\programs\\python\\python311\\lib\\site-packages (from statsmodels) (2.2.0)\n",
            "Collecting patsy>=0.5.6 (from statsmodels)\n",
            "  Downloading patsy-0.5.6-py2.py3-none-any.whl.metadata (3.5 kB)\n",
            "Requirement already satisfied: packaging>=21.3 in c:\\users\\asus\\appdata\\local\\programs\\python\\python311\\lib\\site-packages (from statsmodels) (23.2)\n",
            "Requirement already satisfied: python-dateutil>=2.8.2 in c:\\users\\asus\\appdata\\local\\programs\\python\\python311\\lib\\site-packages (from pandas!=2.1.0,>=1.4->statsmodels) (2.8.2)\n",
            "Requirement already satisfied: pytz>=2020.1 in c:\\users\\asus\\appdata\\local\\programs\\python\\python311\\lib\\site-packages (from pandas!=2.1.0,>=1.4->statsmodels) (2023.3.post1)\n",
            "Requirement already satisfied: tzdata>=2022.7 in c:\\users\\asus\\appdata\\local\\programs\\python\\python311\\lib\\site-packages (from pandas!=2.1.0,>=1.4->statsmodels) (2023.4)\n",
            "Requirement already satisfied: six in c:\\users\\asus\\appdata\\local\\programs\\python\\python311\\lib\\site-packages (from patsy>=0.5.6->statsmodels) (1.16.0)\n",
            "Downloading statsmodels-0.14.3-cp311-cp311-win_amd64.whl (9.9 MB)\n",
            "   ---------------------------------------- 0.0/9.9 MB ? eta -:--:--\n",
            "   - -------------------------------------- 0.3/9.9 MB ? eta -:--:--\n",
            "   ---- ----------------------------------- 1.0/9.9 MB 2.8 MB/s eta 0:00:04\n",
            "   ------- -------------------------------- 1.8/9.9 MB 3.5 MB/s eta 0:00:03\n",
            "   --------- ------------------------------ 2.4/9.9 MB 3.4 MB/s eta 0:00:03\n",
            "   ------------ --------------------------- 3.1/9.9 MB 3.3 MB/s eta 0:00:03\n",
            "   --------------- ------------------------ 3.9/9.9 MB 3.3 MB/s eta 0:00:02\n",
            "   ------------------ --------------------- 4.5/9.9 MB 3.2 MB/s eta 0:00:02\n",
            "   --------------------- ------------------ 5.2/9.9 MB 3.3 MB/s eta 0:00:02\n",
            "   ------------------------ --------------- 6.0/9.9 MB 3.3 MB/s eta 0:00:02\n",
            "   --------------------------- ------------ 6.8/9.9 MB 3.4 MB/s eta 0:00:01\n",
            "   ------------------------------ --------- 7.6/9.9 MB 3.4 MB/s eta 0:00:01\n",
            "   ---------------------------------- ----- 8.4/9.9 MB 3.4 MB/s eta 0:00:01\n",
            "   ------------------------------------- -- 9.2/9.9 MB 3.5 MB/s eta 0:00:01\n",
            "   ---------------------------------------- 9.9/9.9 MB 3.5 MB/s eta 0:00:00\n",
            "Downloading patsy-0.5.6-py2.py3-none-any.whl (233 kB)\n",
            "Installing collected packages: patsy, statsmodels\n",
            "Successfully installed patsy-0.5.6 statsmodels-0.14.3\n"
          ]
        }
      ],
      "source": [
        "!pip install statsmodels"
      ]
    },
    {
      "cell_type": "code",
      "execution_count": 10,
      "metadata": {
        "colab": {
          "base_uri": "https://localhost:8080/"
        },
        "id": "vbN7iBxPNgYT",
        "outputId": "1d81dc44-80a4-4fff-a6d9-bfb82bacbee5"
      },
      "outputs": [
        {
          "name": "stdout",
          "output_type": "stream",
          "text": [
            "Chi-Square Statistic: 2640.64593781344\n",
            "P-Value for MCAR test: 0.0\n"
          ]
        }
      ],
      "source": [
        "import numpy as np\n",
        "from statsmodels.stats import weightstats as stests\n",
        "from scipy.stats import chi2\n",
        "\n",
        "def little_mcar_test(df):\n",
        "    n = df.shape[0]\n",
        "    n_miss = df.isnull().sum().sum()\n",
        "\n",
        "    proportions_missing = df.isnull().mean()\n",
        "\n",
        "    chi_square = (n_miss ** 2) / ((n - 1) * proportions_missing.sum())\n",
        "\n",
        "    df_m = df.shape[1] - 1\n",
        "\n",
        "    p_value = 1 - chi2.cdf(chi_square, df_m)\n",
        "\n",
        "    return chi_square, p_value\n",
        "\n",
        "chi_square, p_value = little_mcar_test(df)\n",
        "print(f\"Chi-Square Statistic: {chi_square}\")\n",
        "print(f\"P-Value for MCAR test: {p_value}\")"
      ]
    },
    {
      "cell_type": "markdown",
      "metadata": {
        "id": "QmyOh0jbR4Mz"
      },
      "source": [
        "* P-value is 0 means, our missing data is **not MCAR**\n",
        "\n",
        "\n"
      ]
    },
    {
      "cell_type": "markdown",
      "metadata": {
        "id": "QKgPrqRSWuNa"
      },
      "source": [
        "# KNN Imputer to fill missing values"
      ]
    },
    {
      "cell_type": "code",
      "execution_count": 11,
      "metadata": {
        "colab": {
          "base_uri": "https://localhost:8080/"
        },
        "id": "Wy0CQ6vHSEV6",
        "outputId": "1b71959a-a563-4a5e-f631-a06bf1a18301"
      },
      "outputs": [
        {
          "name": "stdout",
          "output_type": "stream",
          "text": [
            "   FL_DATE  AIRLINE  DEST_CITY  DEP_TIME  TAXI_OUT  TAXI_IN  ARR_TIME  \\\n",
            "0    671.0      3.0      126.0    1608.0      27.0      9.0    1853.0   \n",
            "1    381.0     16.0       36.0    1838.0      15.0     14.0    2040.0   \n",
            "2    597.0     15.0      104.0    1237.0      15.0      3.0    1331.0   \n",
            "3     61.0      2.0       16.0    1001.0      23.0      8.0    1130.0   \n",
            "4    722.0     13.0      149.0    1637.0      22.0     41.0    2008.0   \n",
            "\n",
            "   ARR_DELAY  CANCELLATION_CODE  ELAPSED_TIME  AIR_TIME  DELAY_DUE_CARRIER  \\\n",
            "0       24.0                4.0         285.0     249.0                0.0   \n",
            "1       -1.0                4.0         182.0     153.0                4.0   \n",
            "2      141.0                4.0          54.0      36.0              141.0   \n",
            "3      -29.0                4.0          89.0      58.0               31.8   \n",
            "4       23.0                4.0         151.0      88.0               57.0   \n",
            "\n",
            "   DELAY_DUE_WEATHER  DELAY_DUE_LATE_AIRCRAFT  \n",
            "0                8.0                    215.0  \n",
            "1                0.0                     23.6  \n",
            "2                0.0                      0.0  \n",
            "3                0.0                      0.0  \n",
            "4                0.0                      0.0  \n"
          ]
        }
      ],
      "source": [
        "from sklearn.impute import KNNImputer\n",
        "knn_imputer = KNNImputer()\n",
        "df_imputed_knn = pd.DataFrame(knn_imputer.fit_transform(df), columns=df.columns)\n",
        "print(df_imputed_knn.head())"
      ]
    },
    {
      "cell_type": "code",
      "execution_count": 12,
      "metadata": {
        "colab": {
          "base_uri": "https://localhost:8080/"
        },
        "id": "nKL5BRA7TWFz",
        "outputId": "3e6ee34a-45fb-4bcd-8ce2-a1d0b4597ff1"
      },
      "outputs": [
        {
          "name": "stdout",
          "output_type": "stream",
          "text": [
            "FL_DATE                    0\n",
            "AIRLINE                    0\n",
            "DEST_CITY                  0\n",
            "DEP_TIME                   0\n",
            "TAXI_OUT                   0\n",
            "TAXI_IN                    0\n",
            "ARR_TIME                   0\n",
            "ARR_DELAY                  0\n",
            "CANCELLATION_CODE          0\n",
            "ELAPSED_TIME               0\n",
            "AIR_TIME                   0\n",
            "DELAY_DUE_CARRIER          0\n",
            "DELAY_DUE_WEATHER          0\n",
            "DELAY_DUE_LATE_AIRCRAFT    0\n",
            "dtype: int64\n"
          ]
        }
      ],
      "source": [
        "print(df_imputed_knn.isnull().sum())"
      ]
    },
    {
      "cell_type": "markdown",
      "metadata": {
        "id": "Wg7qWjH3XC3F"
      },
      "source": [
        "*   This code is replace missing values in a dataset with estimates based on similar data points (using K-nearest neighbors).\n",
        "*   After executing this code, df_imputed_knn will contain the\n",
        "original data with missing values filled in"
      ]
    },
    {
      "cell_type": "markdown",
      "metadata": {
        "id": "z8SwdcidClgT"
      },
      "source": [
        "# MissForest Imputer to fill missing values"
      ]
    },
    {
      "cell_type": "code",
      "execution_count": 13,
      "metadata": {
        "colab": {
          "base_uri": "https://localhost:8080/"
        },
        "id": "z1gGAF6WCGSc",
        "outputId": "771c4910-87b2-42e9-d9ff-695384bcc67b"
      },
      "outputs": [
        {
          "name": "stdout",
          "output_type": "stream",
          "text": [
            "Imputed DataFrame:\n",
            "     FL_DATE  AIRLINE  DEST_CITY  DEP_TIME  TAXI_OUT  TAXI_IN  ARR_TIME  \\\n",
            "0        671        3        126    1608.0      27.0      9.0    1853.0   \n",
            "1        381       16         36    1838.0      15.0     14.0    2040.0   \n",
            "2        597       15        104    1237.0      15.0      3.0    1331.0   \n",
            "3         61        2         16    1001.0      23.0      8.0    1130.0   \n",
            "4        722       13        149    1637.0      22.0     41.0    2008.0   \n",
            "..       ...      ...        ...       ...       ...      ...       ...   \n",
            "993      608        3          8     557.0      13.0      9.0     740.0   \n",
            "994       71        3        135     554.0      19.0      6.0     807.0   \n",
            "995      103        2         82     559.0      16.0      6.0     910.0   \n",
            "996      127       15         10     909.0      14.0      3.0    1421.0   \n",
            "997      662       14        126    1719.0      23.0     10.0    1854.0   \n",
            "\n",
            "     ARR_DELAY  CANCELLATION_CODE  ELAPSED_TIME  AIR_TIME  DELAY_DUE_CARRIER  \\\n",
            "0         24.0                  4         285.0     249.0               0.00   \n",
            "1         -1.0                  4         182.0     153.0               2.53   \n",
            "2        141.0                  4          54.0      36.0             141.00   \n",
            "3        -29.0                  4          89.0      58.0               3.39   \n",
            "4         23.0                  4         151.0      88.0              57.00   \n",
            "..         ...                ...           ...       ...                ...   \n",
            "993       -9.0                  4         103.0      81.0               3.98   \n",
            "994      -42.0                  4         253.0     228.0               3.99   \n",
            "995      -10.0                  4         371.0     349.0              11.39   \n",
            "996       16.0                  4         192.0     175.0              16.00   \n",
            "997       64.0                  4         155.0     122.0               0.00   \n",
            "\n",
            "     DELAY_DUE_WEATHER  DELAY_DUE_LATE_AIRCRAFT  \n",
            "0                 8.00                   215.00  \n",
            "1                 0.38                    14.86  \n",
            "2                 0.00                     0.00  \n",
            "3                 0.57                     6.90  \n",
            "4                 0.00                     0.00  \n",
            "..                 ...                      ...  \n",
            "993               9.45                     6.76  \n",
            "994               0.15                     2.32  \n",
            "995               3.29                     7.59  \n",
            "996               0.00                     0.00  \n",
            "997               0.00                     0.00  \n",
            "\n",
            "[998 rows x 14 columns]\n"
          ]
        }
      ],
      "source": [
        "# missingpy inbuilt function is not working so we use basic code for implimentation\n",
        "import pandas as pd\n",
        "import numpy as np\n",
        "from sklearn.ensemble import RandomForestRegressor, RandomForestClassifier\n",
        "from sklearn.metrics import mean_squared_error\n",
        "from sklearn.utils import resample\n",
        "\n",
        "def custom_missforest(df, n_iterations=10):\n",
        "    df_imputed = df.copy()\n",
        "\n",
        "    for _ in range(n_iterations):\n",
        "        for column in df_imputed.columns:\n",
        "            if df_imputed[column].isnull().any():\n",
        "                df_missing = df_imputed[df_imputed[column].isnull()]\n",
        "                df_non_missing = df_imputed[df_imputed[column].notnull()]\n",
        "\n",
        "                if df_non_missing.empty:\n",
        "                    continue\n",
        "\n",
        "                X_train = df_non_missing.drop(columns=column)\n",
        "                y_train = df_non_missing[column]\n",
        "                X_test = df_missing.drop(columns=column)\n",
        "\n",
        "                X_train = X_train.fillna(X_train.mean())\n",
        "                X_test = X_test.fillna(X_train.mean())\n",
        "\n",
        "                if y_train.dtype == 'object' or df_imputed[column].dtype == 'object':\n",
        "                    model = RandomForestClassifier(n_estimators=100)\n",
        "                    model.fit(X_train, y_train)\n",
        "                    df_imputed.loc[df_imputed[column].isnull(), column] = model.predict(X_test)\n",
        "                else:\n",
        "                    model = RandomForestRegressor(n_estimators=100)\n",
        "                    model.fit(X_train, y_train)\n",
        "                    df_imputed.loc[df_imputed[column].isnull(), column] = model.predict(X_test)\n",
        "\n",
        "    return df_imputed\n",
        "\n",
        "df_imputed_missforest = custom_missforest(df)\n",
        "\n",
        "print(\"Imputed DataFrame:\")\n",
        "print(df_imputed_missforest)"
      ]
    },
    {
      "cell_type": "code",
      "execution_count": 14,
      "metadata": {
        "colab": {
          "base_uri": "https://localhost:8080/",
          "height": 565
        },
        "id": "k9HFZiOICNra",
        "outputId": "838a3f1b-9b8e-4924-9da7-ac92a04353fa"
      },
      "outputs": [
        {
          "data": {
            "text/plain": [
              "FL_DATE                    0\n",
              "AIRLINE                    0\n",
              "DEST_CITY                  0\n",
              "DEP_TIME                   0\n",
              "TAXI_OUT                   0\n",
              "TAXI_IN                    0\n",
              "ARR_TIME                   0\n",
              "ARR_DELAY                  0\n",
              "CANCELLATION_CODE          0\n",
              "ELAPSED_TIME               0\n",
              "AIR_TIME                   0\n",
              "DELAY_DUE_CARRIER          0\n",
              "DELAY_DUE_WEATHER          0\n",
              "DELAY_DUE_LATE_AIRCRAFT    0\n",
              "dtype: int64"
            ]
          },
          "execution_count": 14,
          "metadata": {},
          "output_type": "execute_result"
        }
      ],
      "source": [
        "df_imputed_missforest.isnull().sum()"
      ]
    },
    {
      "cell_type": "markdown",
      "metadata": {
        "id": "aKo5pS4RCMAv"
      },
      "source": [
        "\n",
        "\n",
        "*   Missing entries are replaced with estimated values based on predictions made by random forest models. These values are derived from other observed data in the dataset.\n",
        "* If we run the code multiple times, we might see slight variations due to the randomness in the random forest model, especially if using a bootstrap approach for training the trees.\n",
        "\n"
      ]
    }
  ],
  "metadata": {
    "colab": {
      "collapsed_sections": [
        "gL9HyXq0MY53",
        "tN2wxaL_lkB8",
        "HhpeiLI1mM23",
        "zKXrGSf6RaAR",
        "QKgPrqRSWuNa",
        "z8SwdcidClgT"
      ],
      "provenance": []
    },
    "kernelspec": {
      "display_name": "Python 3",
      "name": "python3"
    },
    "language_info": {
      "codemirror_mode": {
        "name": "ipython",
        "version": 3
      },
      "file_extension": ".py",
      "mimetype": "text/x-python",
      "name": "python",
      "nbconvert_exporter": "python",
      "pygments_lexer": "ipython3",
      "version": "3.11.7"
    }
  },
  "nbformat": 4,
  "nbformat_minor": 0
}
